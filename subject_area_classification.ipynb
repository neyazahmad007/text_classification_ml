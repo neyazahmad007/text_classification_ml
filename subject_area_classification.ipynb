{
 "cells": [
  {
   "cell_type": "code",
   "execution_count": 356,
   "metadata": {},
   "outputs": [],
   "source": [
    "import pandas as pd\n",
    "import re\n",
    "from sklearn.model_selection import train_test_split\n",
    "from nltk.corpus import stopwords\n",
    "from sklearn.feature_extraction.text import CountVectorizer, TfidfVectorizer\n",
    "from sklearn.metrics import accuracy_score\n"
   ]
  },
  {
   "cell_type": "code",
   "execution_count": 357,
   "metadata": {},
   "outputs": [],
   "source": [
    "train_data = pd.read_excel('challenge_trainning_2021.xlsx', names=['subject_value_lable', 'text'])\n"
   ]
  },
  {
   "cell_type": "code",
   "execution_count": 358,
   "metadata": {},
   "outputs": [
    {
     "data": {
      "text/html": [
       "<div>\n",
       "<style scoped>\n",
       "    .dataframe tbody tr th:only-of-type {\n",
       "        vertical-align: middle;\n",
       "    }\n",
       "\n",
       "    .dataframe tbody tr th {\n",
       "        vertical-align: top;\n",
       "    }\n",
       "\n",
       "    .dataframe thead th {\n",
       "        text-align: right;\n",
       "    }\n",
       "</style>\n",
       "<table border=\"1\" class=\"dataframe\">\n",
       "  <thead>\n",
       "    <tr style=\"text-align: right;\">\n",
       "      <th></th>\n",
       "      <th>subject_value_lable</th>\n",
       "      <th>text</th>\n",
       "    </tr>\n",
       "  </thead>\n",
       "  <tbody>\n",
       "    <tr>\n",
       "      <th>0</th>\n",
       "      <td>Social Sciences</td>\n",
       "      <td>\\nIn the current debate on inequality in Afric...</td>\n",
       "    </tr>\n",
       "    <tr>\n",
       "      <th>1</th>\n",
       "      <td>Social Sciences</td>\n",
       "      <td>\\nIn this paper I propose that happiness can b...</td>\n",
       "    </tr>\n",
       "    <tr>\n",
       "      <th>2</th>\n",
       "      <td>Medicine &amp; Public Health</td>\n",
       "      <td>\\nChronic migraine is a debilitating primary h...</td>\n",
       "    </tr>\n",
       "    <tr>\n",
       "      <th>3</th>\n",
       "      <td>Medicine &amp; Public Health</td>\n",
       "      <td>\\nLiver and gastrointestinal disorders during ...</td>\n",
       "    </tr>\n",
       "    <tr>\n",
       "      <th>4</th>\n",
       "      <td>Medicine &amp; Public Health</td>\n",
       "      <td>\\nTraditionally, weight-loss lifestyle-modific...</td>\n",
       "    </tr>\n",
       "  </tbody>\n",
       "</table>\n",
       "</div>"
      ],
      "text/plain": [
       "        subject_value_lable                                               text\n",
       "0           Social Sciences  \\nIn the current debate on inequality in Afric...\n",
       "1           Social Sciences  \\nIn this paper I propose that happiness can b...\n",
       "2  Medicine & Public Health  \\nChronic migraine is a debilitating primary h...\n",
       "3  Medicine & Public Health  \\nLiver and gastrointestinal disorders during ...\n",
       "4  Medicine & Public Health  \\nTraditionally, weight-loss lifestyle-modific..."
      ]
     },
     "execution_count": 358,
     "metadata": {},
     "output_type": "execute_result"
    }
   ],
   "source": [
    "train_data.head()"
   ]
  },
  {
   "cell_type": "code",
   "execution_count": 359,
   "metadata": {},
   "outputs": [
    {
     "data": {
      "text/plain": [
       "array(['Social Sciences', 'Medicine & Public Health', 'Psychology',\n",
       "       'Biomedicine'], dtype=object)"
      ]
     },
     "execution_count": 359,
     "metadata": {},
     "output_type": "execute_result"
    }
   ],
   "source": [
    "train_data.subject_value_lable.unique()"
   ]
  },
  {
   "cell_type": "code",
   "execution_count": 360,
   "metadata": {},
   "outputs": [
    {
     "data": {
      "text/plain": [
       "(8000, 2)"
      ]
     },
     "execution_count": 360,
     "metadata": {},
     "output_type": "execute_result"
    }
   ],
   "source": [
    "train_data.shape"
   ]
  },
  {
   "cell_type": "code",
   "execution_count": 361,
   "metadata": {},
   "outputs": [],
   "source": [
    "train_data.drop_duplicates(inplace=True)"
   ]
  },
  {
   "cell_type": "code",
   "execution_count": 362,
   "metadata": {},
   "outputs": [
    {
     "data": {
      "text/plain": [
       "(7999, 2)"
      ]
     },
     "execution_count": 362,
     "metadata": {},
     "output_type": "execute_result"
    }
   ],
   "source": [
    "train_data.shape"
   ]
  },
  {
   "cell_type": "markdown",
   "metadata": {},
   "source": [
    "## Preprocessing the text\n"
   ]
  },
  {
   "cell_type": "code",
   "execution_count": 364,
   "metadata": {},
   "outputs": [],
   "source": [
    "train_data['text'] = train_data['text'].str.strip()\n"
   ]
  },
  {
   "cell_type": "code",
   "execution_count": 365,
   "metadata": {},
   "outputs": [],
   "source": [
    "STOPWORDS = set(stopwords.words('english'))"
   ]
  },
  {
   "cell_type": "code",
   "execution_count": 368,
   "metadata": {},
   "outputs": [],
   "source": [
    "def clean_text(text):\n",
    "    #text = text.lower()\n",
    "    text = re.sub(re.compile(r'\\s+([\\.\\,\\;\\:])', re.DOTALL), r'\\1', text)\n",
    "    text = re.sub(re.compile(r' ([\\t]+)', re.DOTALL), r' ', text)\n",
    "    text = re.sub(re.compile(r'([a-zA-Z])\\s+([a-zA-Z]+)', re.DOTALL), r'\\1 \\2', text)\n",
    "    text = re.sub(re.compile(r'\\n\\s+([a-zA-Z]+)', re.DOTALL), r' \\1', text)\n",
    "    #text = ' '.join(word for word in text.split() if word not in STOPWORDS)\n",
    "    return text"
   ]
  },
  {
   "cell_type": "code",
   "execution_count": 369,
   "metadata": {},
   "outputs": [],
   "source": [
    "train_data['text'] = train_data['text'].apply(clean_text)"
   ]
  },
  {
   "cell_type": "code",
   "execution_count": 370,
   "metadata": {},
   "outputs": [],
   "source": [
    "writer = pd.ExcelWriter('clean_data.xlsx')\n",
    "train_data.to_excel(writer)\n",
    "writer.save()"
   ]
  },
  {
   "cell_type": "code",
   "execution_count": 371,
   "metadata": {},
   "outputs": [
    {
     "data": {
      "text/html": [
       "<div>\n",
       "<style scoped>\n",
       "    .dataframe tbody tr th:only-of-type {\n",
       "        vertical-align: middle;\n",
       "    }\n",
       "\n",
       "    .dataframe tbody tr th {\n",
       "        vertical-align: top;\n",
       "    }\n",
       "\n",
       "    .dataframe thead th {\n",
       "        text-align: right;\n",
       "    }\n",
       "</style>\n",
       "<table border=\"1\" class=\"dataframe\">\n",
       "  <thead>\n",
       "    <tr style=\"text-align: right;\">\n",
       "      <th></th>\n",
       "      <th>subject_value_lable</th>\n",
       "      <th>text</th>\n",
       "    </tr>\n",
       "  </thead>\n",
       "  <tbody>\n",
       "    <tr>\n",
       "      <th>0</th>\n",
       "      <td>Social Sciences</td>\n",
       "      <td>In the current debate on inequality in Africa ...</td>\n",
       "    </tr>\n",
       "    <tr>\n",
       "      <th>1</th>\n",
       "      <td>Social Sciences</td>\n",
       "      <td>In this paper I propose that happiness can be ...</td>\n",
       "    </tr>\n",
       "    <tr>\n",
       "      <th>2</th>\n",
       "      <td>Medicine &amp; Public Health</td>\n",
       "      <td>Chronic migraine is a debilitating primary hea...</td>\n",
       "    </tr>\n",
       "    <tr>\n",
       "      <th>3</th>\n",
       "      <td>Medicine &amp; Public Health</td>\n",
       "      <td>Liver and gastrointestinal disorders during pr...</td>\n",
       "    </tr>\n",
       "    <tr>\n",
       "      <th>4</th>\n",
       "      <td>Medicine &amp; Public Health</td>\n",
       "      <td>Traditionally, weight-loss lifestyle-modificat...</td>\n",
       "    </tr>\n",
       "  </tbody>\n",
       "</table>\n",
       "</div>"
      ],
      "text/plain": [
       "        subject_value_lable                                               text\n",
       "0           Social Sciences  In the current debate on inequality in Africa ...\n",
       "1           Social Sciences  In this paper I propose that happiness can be ...\n",
       "2  Medicine & Public Health  Chronic migraine is a debilitating primary hea...\n",
       "3  Medicine & Public Health  Liver and gastrointestinal disorders during pr...\n",
       "4  Medicine & Public Health  Traditionally, weight-loss lifestyle-modificat..."
      ]
     },
     "execution_count": 371,
     "metadata": {},
     "output_type": "execute_result"
    }
   ],
   "source": [
    "train_data.head()"
   ]
  },
  {
   "cell_type": "code",
   "execution_count": 372,
   "metadata": {},
   "outputs": [
    {
     "name": "stdout",
     "output_type": "stream",
     "text": [
      "7899051\n"
     ]
    }
   ],
   "source": [
    "print(train_data['text'].apply(lambda x: len(x.split(' '))).sum())"
   ]
  },
  {
   "cell_type": "markdown",
   "metadata": {},
   "source": [
    "## Train Test split\n"
   ]
  },
  {
   "cell_type": "code",
   "execution_count": 373,
   "metadata": {},
   "outputs": [],
   "source": [
    "x = train_data.text\n",
    "y = train_data.subject_value_lable\n",
    "X_train, X_test, y_train, y_test = train_test_split(x, y, test_size=0.2, random_state = 111)"
   ]
  },
  {
   "cell_type": "code",
   "execution_count": 374,
   "metadata": {},
   "outputs": [
    {
     "data": {
      "text/plain": [
       "((6399,), (1600,), (6399,), (1600,))"
      ]
     },
     "execution_count": 374,
     "metadata": {},
     "output_type": "execute_result"
    }
   ],
   "source": [
    "X_train.shape,X_test.shape,y_train.shape,y_test.shape"
   ]
  },
  {
   "cell_type": "markdown",
   "metadata": {},
   "source": [
    "## Applying Logistic Regression\n"
   ]
  },
  {
   "cell_type": "code",
   "execution_count": 375,
   "metadata": {},
   "outputs": [
    {
     "name": "stdout",
     "output_type": "stream",
     "text": [
      "Accuracy is : 0.89\n"
     ]
    }
   ],
   "source": [
    "from sklearn.linear_model import LogisticRegression\n",
    "from sklearn.pipeline import Pipeline\n",
    "from sklearn.feature_extraction.text import TfidfTransformer\n",
    "\n",
    "lr = Pipeline([('vect', CountVectorizer()),\n",
    "               ('tfidf', TfidfTransformer()),\n",
    "               ('clf', LogisticRegression()),\n",
    "              ])\n",
    "\n",
    "lr.fit(X_train,y_train)\n",
    "y_pred1 = lr.predict(X_test)\n",
    "\n",
    "print(f\"Accuracy is : {accuracy_score(y_pred1,y_test)}\")"
   ]
  },
  {
   "cell_type": "markdown",
   "metadata": {},
   "source": [
    "## Save the model"
   ]
  },
  {
   "cell_type": "code",
   "execution_count": 376,
   "metadata": {},
   "outputs": [
    {
     "name": "stdout",
     "output_type": "stream",
     "text": [
      "Model is saved into to disk successfully Using Pickle\n"
     ]
    }
   ],
   "source": [
    "import pickle\n",
    "\n",
    "model_filename = \"subject_classifier.mdl\"\n",
    "\n",
    "saved_model = pickle.dump(lr, open(model_filename,'wb'))\n",
    "\n",
    "print('Model is saved into to disk successfully Using Pickle')\n",
    "\n"
   ]
  },
  {
   "cell_type": "markdown",
   "metadata": {},
   "source": [
    "## load the model and run on test-data"
   ]
  },
  {
   "cell_type": "code",
   "execution_count": 377,
   "metadata": {},
   "outputs": [
    {
     "data": {
      "text/plain": [
       "array(['Social Sciences', 'Social Sciences', 'Medicine & Public Health',\n",
       "       ..., 'Psychology', 'Social Sciences', 'Biomedicine'], dtype=object)"
      ]
     },
     "execution_count": 377,
     "metadata": {},
     "output_type": "execute_result"
    }
   ],
   "source": [
    "model_filename = \"subject_classifier.mdl\"\n",
    "my_lr_model = pickle.load(open(model_filename, 'rb'))\n",
    "result = my_lr_model.predict(X_test)\n",
    "result"
   ]
  },
  {
   "cell_type": "markdown",
   "metadata": {},
   "source": [
    "## run on given test sample data"
   ]
  },
  {
   "cell_type": "code",
   "execution_count": 378,
   "metadata": {
    "scrolled": true
   },
   "outputs": [
    {
     "data": {
      "text/html": [
       "<div>\n",
       "<style scoped>\n",
       "    .dataframe tbody tr th:only-of-type {\n",
       "        vertical-align: middle;\n",
       "    }\n",
       "\n",
       "    .dataframe tbody tr th {\n",
       "        vertical-align: top;\n",
       "    }\n",
       "\n",
       "    .dataframe thead th {\n",
       "        text-align: right;\n",
       "    }\n",
       "</style>\n",
       "<table border=\"1\" class=\"dataframe\">\n",
       "  <thead>\n",
       "    <tr style=\"text-align: right;\">\n",
       "      <th></th>\n",
       "      <th>text</th>\n",
       "    </tr>\n",
       "    <tr>\n",
       "      <th>ID</th>\n",
       "      <th></th>\n",
       "    </tr>\n",
       "  </thead>\n",
       "  <tbody>\n",
       "    <tr>\n",
       "      <th>0</th>\n",
       "      <td>This chapter contains a scenario in which a fe...</td>\n",
       "    </tr>\n",
       "    <tr>\n",
       "      <th>1</th>\n",
       "      <td>Vaccines currently routinely recommended for p...</td>\n",
       "    </tr>\n",
       "    <tr>\n",
       "      <th>2</th>\n",
       "      <td>With the development of a 5-year integrated va...</td>\n",
       "    </tr>\n",
       "    <tr>\n",
       "      <th>3</th>\n",
       "      <td>Clients with eating disorders (ED) make up a g...</td>\n",
       "    </tr>\n",
       "    <tr>\n",
       "      <th>4</th>\n",
       "      <td>Several different viruses and some bacterial p...</td>\n",
       "    </tr>\n",
       "  </tbody>\n",
       "</table>\n",
       "</div>"
      ],
      "text/plain": [
       "                                                 text\n",
       "ID                                                   \n",
       "0   This chapter contains a scenario in which a fe...\n",
       "1   Vaccines currently routinely recommended for p...\n",
       "2   With the development of a 5-year integrated va...\n",
       "3   Clients with eating disorders (ED) make up a g...\n",
       "4   Several different viruses and some bacterial p..."
      ]
     },
     "execution_count": 378,
     "metadata": {},
     "output_type": "execute_result"
    }
   ],
   "source": [
    "test_data = pd.read_excel('test.xlsx', index_col=0, header=0)\n",
    "test_data['text'] = test_data['text'].str.strip()\n",
    "test_data.head()"
   ]
  },
  {
   "cell_type": "code",
   "execution_count": null,
   "metadata": {},
   "outputs": [],
   "source": []
  },
  {
   "cell_type": "code",
   "execution_count": 379,
   "metadata": {},
   "outputs": [],
   "source": [
    "result = my_lr_model.predict(test_data['text'])"
   ]
  },
  {
   "cell_type": "code",
   "execution_count": 380,
   "metadata": {},
   "outputs": [],
   "source": [
    "predicted_label = pd.DataFrame(result, columns=['subject_value'])"
   ]
  },
  {
   "cell_type": "code",
   "execution_count": 272,
   "metadata": {
    "scrolled": true
   },
   "outputs": [
    {
     "data": {
      "text/html": [
       "<div>\n",
       "<style scoped>\n",
       "    .dataframe tbody tr th:only-of-type {\n",
       "        vertical-align: middle;\n",
       "    }\n",
       "\n",
       "    .dataframe tbody tr th {\n",
       "        vertical-align: top;\n",
       "    }\n",
       "\n",
       "    .dataframe thead th {\n",
       "        text-align: right;\n",
       "    }\n",
       "</style>\n",
       "<table border=\"1\" class=\"dataframe\">\n",
       "  <thead>\n",
       "    <tr style=\"text-align: right;\">\n",
       "      <th></th>\n",
       "      <th>subject_value</th>\n",
       "    </tr>\n",
       "  </thead>\n",
       "  <tbody>\n",
       "    <tr>\n",
       "      <th>0</th>\n",
       "      <td>Medicine &amp; Public Health</td>\n",
       "    </tr>\n",
       "    <tr>\n",
       "      <th>1</th>\n",
       "      <td>Medicine &amp; Public Health</td>\n",
       "    </tr>\n",
       "    <tr>\n",
       "      <th>2</th>\n",
       "      <td>Medicine &amp; Public Health</td>\n",
       "    </tr>\n",
       "    <tr>\n",
       "      <th>3</th>\n",
       "      <td>Psychology</td>\n",
       "    </tr>\n",
       "    <tr>\n",
       "      <th>4</th>\n",
       "      <td>Medicine &amp; Public Health</td>\n",
       "    </tr>\n",
       "    <tr>\n",
       "      <th>5</th>\n",
       "      <td>Biomedicine</td>\n",
       "    </tr>\n",
       "    <tr>\n",
       "      <th>6</th>\n",
       "      <td>Biomedicine</td>\n",
       "    </tr>\n",
       "    <tr>\n",
       "      <th>7</th>\n",
       "      <td>Psychology</td>\n",
       "    </tr>\n",
       "    <tr>\n",
       "      <th>8</th>\n",
       "      <td>Psychology</td>\n",
       "    </tr>\n",
       "    <tr>\n",
       "      <th>9</th>\n",
       "      <td>Social Sciences</td>\n",
       "    </tr>\n",
       "    <tr>\n",
       "      <th>10</th>\n",
       "      <td>Psychology</td>\n",
       "    </tr>\n",
       "    <tr>\n",
       "      <th>11</th>\n",
       "      <td>Biomedicine</td>\n",
       "    </tr>\n",
       "    <tr>\n",
       "      <th>12</th>\n",
       "      <td>Psychology</td>\n",
       "    </tr>\n",
       "    <tr>\n",
       "      <th>13</th>\n",
       "      <td>Psychology</td>\n",
       "    </tr>\n",
       "    <tr>\n",
       "      <th>14</th>\n",
       "      <td>Biomedicine</td>\n",
       "    </tr>\n",
       "    <tr>\n",
       "      <th>15</th>\n",
       "      <td>Social Sciences</td>\n",
       "    </tr>\n",
       "    <tr>\n",
       "      <th>16</th>\n",
       "      <td>Biomedicine</td>\n",
       "    </tr>\n",
       "    <tr>\n",
       "      <th>17</th>\n",
       "      <td>Psychology</td>\n",
       "    </tr>\n",
       "    <tr>\n",
       "      <th>18</th>\n",
       "      <td>Biomedicine</td>\n",
       "    </tr>\n",
       "    <tr>\n",
       "      <th>19</th>\n",
       "      <td>Psychology</td>\n",
       "    </tr>\n",
       "    <tr>\n",
       "      <th>20</th>\n",
       "      <td>Social Sciences</td>\n",
       "    </tr>\n",
       "    <tr>\n",
       "      <th>21</th>\n",
       "      <td>Psychology</td>\n",
       "    </tr>\n",
       "    <tr>\n",
       "      <th>22</th>\n",
       "      <td>Medicine &amp; Public Health</td>\n",
       "    </tr>\n",
       "    <tr>\n",
       "      <th>23</th>\n",
       "      <td>Medicine &amp; Public Health</td>\n",
       "    </tr>\n",
       "    <tr>\n",
       "      <th>24</th>\n",
       "      <td>Social Sciences</td>\n",
       "    </tr>\n",
       "    <tr>\n",
       "      <th>25</th>\n",
       "      <td>Biomedicine</td>\n",
       "    </tr>\n",
       "    <tr>\n",
       "      <th>26</th>\n",
       "      <td>Biomedicine</td>\n",
       "    </tr>\n",
       "    <tr>\n",
       "      <th>27</th>\n",
       "      <td>Medicine &amp; Public Health</td>\n",
       "    </tr>\n",
       "    <tr>\n",
       "      <th>28</th>\n",
       "      <td>Biomedicine</td>\n",
       "    </tr>\n",
       "    <tr>\n",
       "      <th>29</th>\n",
       "      <td>Biomedicine</td>\n",
       "    </tr>\n",
       "    <tr>\n",
       "      <th>...</th>\n",
       "      <td>...</td>\n",
       "    </tr>\n",
       "    <tr>\n",
       "      <th>1970</th>\n",
       "      <td>Social Sciences</td>\n",
       "    </tr>\n",
       "    <tr>\n",
       "      <th>1971</th>\n",
       "      <td>Psychology</td>\n",
       "    </tr>\n",
       "    <tr>\n",
       "      <th>1972</th>\n",
       "      <td>Biomedicine</td>\n",
       "    </tr>\n",
       "    <tr>\n",
       "      <th>1973</th>\n",
       "      <td>Biomedicine</td>\n",
       "    </tr>\n",
       "    <tr>\n",
       "      <th>1974</th>\n",
       "      <td>Psychology</td>\n",
       "    </tr>\n",
       "    <tr>\n",
       "      <th>1975</th>\n",
       "      <td>Social Sciences</td>\n",
       "    </tr>\n",
       "    <tr>\n",
       "      <th>1976</th>\n",
       "      <td>Social Sciences</td>\n",
       "    </tr>\n",
       "    <tr>\n",
       "      <th>1977</th>\n",
       "      <td>Psychology</td>\n",
       "    </tr>\n",
       "    <tr>\n",
       "      <th>1978</th>\n",
       "      <td>Biomedicine</td>\n",
       "    </tr>\n",
       "    <tr>\n",
       "      <th>1979</th>\n",
       "      <td>Biomedicine</td>\n",
       "    </tr>\n",
       "    <tr>\n",
       "      <th>1980</th>\n",
       "      <td>Social Sciences</td>\n",
       "    </tr>\n",
       "    <tr>\n",
       "      <th>1981</th>\n",
       "      <td>Biomedicine</td>\n",
       "    </tr>\n",
       "    <tr>\n",
       "      <th>1982</th>\n",
       "      <td>Psychology</td>\n",
       "    </tr>\n",
       "    <tr>\n",
       "      <th>1983</th>\n",
       "      <td>Social Sciences</td>\n",
       "    </tr>\n",
       "    <tr>\n",
       "      <th>1984</th>\n",
       "      <td>Biomedicine</td>\n",
       "    </tr>\n",
       "    <tr>\n",
       "      <th>1985</th>\n",
       "      <td>Biomedicine</td>\n",
       "    </tr>\n",
       "    <tr>\n",
       "      <th>1986</th>\n",
       "      <td>Psychology</td>\n",
       "    </tr>\n",
       "    <tr>\n",
       "      <th>1987</th>\n",
       "      <td>Medicine &amp; Public Health</td>\n",
       "    </tr>\n",
       "    <tr>\n",
       "      <th>1988</th>\n",
       "      <td>Psychology</td>\n",
       "    </tr>\n",
       "    <tr>\n",
       "      <th>1989</th>\n",
       "      <td>Biomedicine</td>\n",
       "    </tr>\n",
       "    <tr>\n",
       "      <th>1990</th>\n",
       "      <td>Biomedicine</td>\n",
       "    </tr>\n",
       "    <tr>\n",
       "      <th>1991</th>\n",
       "      <td>Social Sciences</td>\n",
       "    </tr>\n",
       "    <tr>\n",
       "      <th>1992</th>\n",
       "      <td>Biomedicine</td>\n",
       "    </tr>\n",
       "    <tr>\n",
       "      <th>1993</th>\n",
       "      <td>Social Sciences</td>\n",
       "    </tr>\n",
       "    <tr>\n",
       "      <th>1994</th>\n",
       "      <td>Medicine &amp; Public Health</td>\n",
       "    </tr>\n",
       "    <tr>\n",
       "      <th>1995</th>\n",
       "      <td>Psychology</td>\n",
       "    </tr>\n",
       "    <tr>\n",
       "      <th>1996</th>\n",
       "      <td>Medicine &amp; Public Health</td>\n",
       "    </tr>\n",
       "    <tr>\n",
       "      <th>1997</th>\n",
       "      <td>Psychology</td>\n",
       "    </tr>\n",
       "    <tr>\n",
       "      <th>1998</th>\n",
       "      <td>Social Sciences</td>\n",
       "    </tr>\n",
       "    <tr>\n",
       "      <th>1999</th>\n",
       "      <td>Psychology</td>\n",
       "    </tr>\n",
       "  </tbody>\n",
       "</table>\n",
       "<p>2000 rows × 1 columns</p>\n",
       "</div>"
      ],
      "text/plain": [
       "                 subject_value\n",
       "0     Medicine & Public Health\n",
       "1     Medicine & Public Health\n",
       "2     Medicine & Public Health\n",
       "3                   Psychology\n",
       "4     Medicine & Public Health\n",
       "5                  Biomedicine\n",
       "6                  Biomedicine\n",
       "7                   Psychology\n",
       "8                   Psychology\n",
       "9              Social Sciences\n",
       "10                  Psychology\n",
       "11                 Biomedicine\n",
       "12                  Psychology\n",
       "13                  Psychology\n",
       "14                 Biomedicine\n",
       "15             Social Sciences\n",
       "16                 Biomedicine\n",
       "17                  Psychology\n",
       "18                 Biomedicine\n",
       "19                  Psychology\n",
       "20             Social Sciences\n",
       "21                  Psychology\n",
       "22    Medicine & Public Health\n",
       "23    Medicine & Public Health\n",
       "24             Social Sciences\n",
       "25                 Biomedicine\n",
       "26                 Biomedicine\n",
       "27    Medicine & Public Health\n",
       "28                 Biomedicine\n",
       "29                 Biomedicine\n",
       "...                        ...\n",
       "1970           Social Sciences\n",
       "1971                Psychology\n",
       "1972               Biomedicine\n",
       "1973               Biomedicine\n",
       "1974                Psychology\n",
       "1975           Social Sciences\n",
       "1976           Social Sciences\n",
       "1977                Psychology\n",
       "1978               Biomedicine\n",
       "1979               Biomedicine\n",
       "1980           Social Sciences\n",
       "1981               Biomedicine\n",
       "1982                Psychology\n",
       "1983           Social Sciences\n",
       "1984               Biomedicine\n",
       "1985               Biomedicine\n",
       "1986                Psychology\n",
       "1987  Medicine & Public Health\n",
       "1988                Psychology\n",
       "1989               Biomedicine\n",
       "1990               Biomedicine\n",
       "1991           Social Sciences\n",
       "1992               Biomedicine\n",
       "1993           Social Sciences\n",
       "1994  Medicine & Public Health\n",
       "1995                Psychology\n",
       "1996  Medicine & Public Health\n",
       "1997                Psychology\n",
       "1998           Social Sciences\n",
       "1999                Psychology\n",
       "\n",
       "[2000 rows x 1 columns]"
      ]
     },
     "execution_count": 272,
     "metadata": {},
     "output_type": "execute_result"
    }
   ],
   "source": [
    "predicted_label"
   ]
  },
  {
   "cell_type": "markdown",
   "metadata": {},
   "source": [
    "## save result in csv format"
   ]
  },
  {
   "cell_type": "code",
   "execution_count": 381,
   "metadata": {},
   "outputs": [],
   "source": [
    "predicted_label.to_csv(\"test_result.csv\")"
   ]
  },
  {
   "cell_type": "code",
   "execution_count": 267,
   "metadata": {
    "collapsed": true
   },
   "outputs": [
    {
     "data": {
      "text/html": [
       "<div>\n",
       "<style scoped>\n",
       "    .dataframe tbody tr th:only-of-type {\n",
       "        vertical-align: middle;\n",
       "    }\n",
       "\n",
       "    .dataframe tbody tr th {\n",
       "        vertical-align: top;\n",
       "    }\n",
       "\n",
       "    .dataframe thead th {\n",
       "        text-align: right;\n",
       "    }\n",
       "</style>\n",
       "<table border=\"1\" class=\"dataframe\">\n",
       "  <thead>\n",
       "    <tr style=\"text-align: right;\">\n",
       "      <th></th>\n",
       "      <th>subject_value</th>\n",
       "      <th>text</th>\n",
       "    </tr>\n",
       "  </thead>\n",
       "  <tbody>\n",
       "    <tr>\n",
       "      <th>0</th>\n",
       "      <td>NaN</td>\n",
       "      <td>This chapter contains a scenario in which a fe...</td>\n",
       "    </tr>\n",
       "    <tr>\n",
       "      <th>1</th>\n",
       "      <td>NaN</td>\n",
       "      <td>Vaccines currently routinely recommended for p...</td>\n",
       "    </tr>\n",
       "    <tr>\n",
       "      <th>2</th>\n",
       "      <td>NaN</td>\n",
       "      <td>With the development of a 5-year integrated va...</td>\n",
       "    </tr>\n",
       "    <tr>\n",
       "      <th>3</th>\n",
       "      <td>NaN</td>\n",
       "      <td>Clients with eating disorders (ED) make up a g...</td>\n",
       "    </tr>\n",
       "    <tr>\n",
       "      <th>4</th>\n",
       "      <td>NaN</td>\n",
       "      <td>Several different viruses and some bacterial p...</td>\n",
       "    </tr>\n",
       "    <tr>\n",
       "      <th>5</th>\n",
       "      <td>NaN</td>\n",
       "      <td>“Toward a Synthetic Genome” Section\\n         ...</td>\n",
       "    </tr>\n",
       "    <tr>\n",
       "      <th>6</th>\n",
       "      <td>NaN</td>\n",
       "      <td>Capturing videos anytime and anywhere, and the...</td>\n",
       "    </tr>\n",
       "    <tr>\n",
       "      <th>7</th>\n",
       "      <td>NaN</td>\n",
       "      <td>Emotions are debated daily in scientific and s...</td>\n",
       "    </tr>\n",
       "    <tr>\n",
       "      <th>8</th>\n",
       "      <td>NaN</td>\n",
       "      <td>Dementia is characterised by cognitive impairm...</td>\n",
       "    </tr>\n",
       "    <tr>\n",
       "      <th>9</th>\n",
       "      <td>NaN</td>\n",
       "      <td>This conclusion summarizes and assesses change...</td>\n",
       "    </tr>\n",
       "    <tr>\n",
       "      <th>10</th>\n",
       "      <td>NaN</td>\n",
       "      <td>Lies cost money and careers, destroy trust, an...</td>\n",
       "    </tr>\n",
       "    <tr>\n",
       "      <th>11</th>\n",
       "      <td>NaN</td>\n",
       "      <td>Because humans lack a sensory vocabulary for a...</td>\n",
       "    </tr>\n",
       "    <tr>\n",
       "      <th>12</th>\n",
       "      <td>NaN</td>\n",
       "      <td>Since their popularization, video games have d...</td>\n",
       "    </tr>\n",
       "    <tr>\n",
       "      <th>13</th>\n",
       "      <td>NaN</td>\n",
       "      <td>What is the function of parent–child argumenta...</td>\n",
       "    </tr>\n",
       "    <tr>\n",
       "      <th>14</th>\n",
       "      <td>NaN</td>\n",
       "      <td>Hemophagocytic lymphohistiocytosis (HLH) is a ...</td>\n",
       "    </tr>\n",
       "    <tr>\n",
       "      <th>15</th>\n",
       "      <td>NaN</td>\n",
       "      <td>The Sphinxes Avenue extends from Karnak to Lux...</td>\n",
       "    </tr>\n",
       "    <tr>\n",
       "      <th>16</th>\n",
       "      <td>NaN</td>\n",
       "      <td>One of the most serious viral outbreaks of the...</td>\n",
       "    </tr>\n",
       "    <tr>\n",
       "      <th>17</th>\n",
       "      <td>NaN</td>\n",
       "      <td>is research assistant at the Department of Bus...</td>\n",
       "    </tr>\n",
       "    <tr>\n",
       "      <th>18</th>\n",
       "      <td>NaN</td>\n",
       "      <td>Pseudomonas aeruginosa is a ubiquitous and opp...</td>\n",
       "    </tr>\n",
       "    <tr>\n",
       "      <th>19</th>\n",
       "      <td>NaN</td>\n",
       "      <td>In this chapter, I address the premise that cr...</td>\n",
       "    </tr>\n",
       "    <tr>\n",
       "      <th>20</th>\n",
       "      <td>NaN</td>\n",
       "      <td>This chapter provides a general introduction t...</td>\n",
       "    </tr>\n",
       "    <tr>\n",
       "      <th>21</th>\n",
       "      <td>NaN</td>\n",
       "      <td>This chapter proposes a framework of concepts ...</td>\n",
       "    </tr>\n",
       "    <tr>\n",
       "      <th>22</th>\n",
       "      <td>NaN</td>\n",
       "      <td>Robot-assisted surgery has many implications f...</td>\n",
       "    </tr>\n",
       "    <tr>\n",
       "      <th>23</th>\n",
       "      <td>NaN</td>\n",
       "      <td>The pediatric heart transplantation Chap. 17 d...</td>\n",
       "    </tr>\n",
       "    <tr>\n",
       "      <th>24</th>\n",
       "      <td>NaN</td>\n",
       "      <td>The chapter aims to investigate the profile of...</td>\n",
       "    </tr>\n",
       "    <tr>\n",
       "      <th>25</th>\n",
       "      <td>NaN</td>\n",
       "      <td>An increasing evidence has suggested that surf...</td>\n",
       "    </tr>\n",
       "    <tr>\n",
       "      <th>26</th>\n",
       "      <td>NaN</td>\n",
       "      <td>It is estimated that 2 billion people are infe...</td>\n",
       "    </tr>\n",
       "    <tr>\n",
       "      <th>27</th>\n",
       "      <td>NaN</td>\n",
       "      <td>DTP and hepatitis B vaccines do not cause sudd...</td>\n",
       "    </tr>\n",
       "    <tr>\n",
       "      <th>28</th>\n",
       "      <td>NaN</td>\n",
       "      <td>Yeast is used as an attractive host for metabo...</td>\n",
       "    </tr>\n",
       "    <tr>\n",
       "      <th>29</th>\n",
       "      <td>NaN</td>\n",
       "      <td>All animal-eating bats are echolocators, and t...</td>\n",
       "    </tr>\n",
       "    <tr>\n",
       "      <th>...</th>\n",
       "      <td>...</td>\n",
       "      <td>...</td>\n",
       "    </tr>\n",
       "    <tr>\n",
       "      <th>1970</th>\n",
       "      <td>NaN</td>\n",
       "      <td>On the 20th anniversary of Hong Kong’s handove...</td>\n",
       "    </tr>\n",
       "    <tr>\n",
       "      <th>1971</th>\n",
       "      <td>NaN</td>\n",
       "      <td>is an Associate Professsor in the Ph.D. Progra...</td>\n",
       "    </tr>\n",
       "    <tr>\n",
       "      <th>1972</th>\n",
       "      <td>NaN</td>\n",
       "      <td>Neutropenic patients are predisposed to polymi...</td>\n",
       "    </tr>\n",
       "    <tr>\n",
       "      <th>1973</th>\n",
       "      <td>NaN</td>\n",
       "      <td>No substance is without poison. Only the dose ...</td>\n",
       "    </tr>\n",
       "    <tr>\n",
       "      <th>1974</th>\n",
       "      <td>NaN</td>\n",
       "      <td>The narcissism spectrum model synthesizes exte...</td>\n",
       "    </tr>\n",
       "    <tr>\n",
       "      <th>1975</th>\n",
       "      <td>NaN</td>\n",
       "      <td>In Malaysia, traffic congestion remains to be ...</td>\n",
       "    </tr>\n",
       "    <tr>\n",
       "      <th>1976</th>\n",
       "      <td>NaN</td>\n",
       "      <td>Mobility is a core factor of quality of life f...</td>\n",
       "    </tr>\n",
       "    <tr>\n",
       "      <th>1977</th>\n",
       "      <td>NaN</td>\n",
       "      <td>According to the Oxford Dictionary of Human Re...</td>\n",
       "    </tr>\n",
       "    <tr>\n",
       "      <th>1978</th>\n",
       "      <td>NaN</td>\n",
       "      <td>Huntington’s disease (HD) is a fatal, dominant...</td>\n",
       "    </tr>\n",
       "    <tr>\n",
       "      <th>1979</th>\n",
       "      <td>NaN</td>\n",
       "      <td>Chromatin is the physical representation of ep...</td>\n",
       "    </tr>\n",
       "    <tr>\n",
       "      <th>1980</th>\n",
       "      <td>NaN</td>\n",
       "      <td>In this chapter, the findings of the village r...</td>\n",
       "    </tr>\n",
       "    <tr>\n",
       "      <th>1981</th>\n",
       "      <td>NaN</td>\n",
       "      <td>Atrial fibrillation (AF) is the most common ar...</td>\n",
       "    </tr>\n",
       "    <tr>\n",
       "      <th>1982</th>\n",
       "      <td>NaN</td>\n",
       "      <td>Human–animal interaction (HAI) is an interface...</td>\n",
       "    </tr>\n",
       "    <tr>\n",
       "      <th>1983</th>\n",
       "      <td>NaN</td>\n",
       "      <td>Natural disasters are on the rise, of growing ...</td>\n",
       "    </tr>\n",
       "    <tr>\n",
       "      <th>1984</th>\n",
       "      <td>NaN</td>\n",
       "      <td>Adoptive cellular therapy (ACT) is a type of c...</td>\n",
       "    </tr>\n",
       "    <tr>\n",
       "      <th>1985</th>\n",
       "      <td>NaN</td>\n",
       "      <td>The term ‘Micro-organism’ refers to any living...</td>\n",
       "    </tr>\n",
       "    <tr>\n",
       "      <th>1986</th>\n",
       "      <td>NaN</td>\n",
       "      <td>Based on the information presented in Chapter ...</td>\n",
       "    </tr>\n",
       "    <tr>\n",
       "      <th>1987</th>\n",
       "      <td>NaN</td>\n",
       "      <td>Breast and nipple skin disorders cover a large...</td>\n",
       "    </tr>\n",
       "    <tr>\n",
       "      <th>1988</th>\n",
       "      <td>NaN</td>\n",
       "      <td>In this chapter, readers are treated to two an...</td>\n",
       "    </tr>\n",
       "    <tr>\n",
       "      <th>1989</th>\n",
       "      <td>NaN</td>\n",
       "      <td>Nanotheranostics, the amalgamation of diagnosi...</td>\n",
       "    </tr>\n",
       "    <tr>\n",
       "      <th>1990</th>\n",
       "      <td>NaN</td>\n",
       "      <td>Medicinal plants are used by 80% of the world ...</td>\n",
       "    </tr>\n",
       "    <tr>\n",
       "      <th>1991</th>\n",
       "      <td>NaN</td>\n",
       "      <td>This chapter focuses on the labour of social r...</td>\n",
       "    </tr>\n",
       "    <tr>\n",
       "      <th>1992</th>\n",
       "      <td>NaN</td>\n",
       "      <td>The purpose of this chapter is to give an over...</td>\n",
       "    </tr>\n",
       "    <tr>\n",
       "      <th>1993</th>\n",
       "      <td>NaN</td>\n",
       "      <td>The discovery of increased health-protecting p...</td>\n",
       "    </tr>\n",
       "    <tr>\n",
       "      <th>1994</th>\n",
       "      <td>NaN</td>\n",
       "      <td>Acute encephalitis is a rapidly progressive en...</td>\n",
       "    </tr>\n",
       "    <tr>\n",
       "      <th>1995</th>\n",
       "      <td>NaN</td>\n",
       "      <td>Science never before faced such a complex, dyn...</td>\n",
       "    </tr>\n",
       "    <tr>\n",
       "      <th>1996</th>\n",
       "      <td>NaN</td>\n",
       "      <td>This chapter contains a case study on an Afric...</td>\n",
       "    </tr>\n",
       "    <tr>\n",
       "      <th>1997</th>\n",
       "      <td>NaN</td>\n",
       "      <td>There may be times when researchers want to fo...</td>\n",
       "    </tr>\n",
       "    <tr>\n",
       "      <th>1998</th>\n",
       "      <td>NaN</td>\n",
       "      <td>This chapter reflects on marine/maritime spati...</td>\n",
       "    </tr>\n",
       "    <tr>\n",
       "      <th>1999</th>\n",
       "      <td>NaN</td>\n",
       "      <td>This chapter presents a practical framework fo...</td>\n",
       "    </tr>\n",
       "  </tbody>\n",
       "</table>\n",
       "<p>2000 rows × 2 columns</p>\n",
       "</div>"
      ],
      "text/plain": [
       "      subject_value                                               text\n",
       "0               NaN  This chapter contains a scenario in which a fe...\n",
       "1               NaN  Vaccines currently routinely recommended for p...\n",
       "2               NaN  With the development of a 5-year integrated va...\n",
       "3               NaN  Clients with eating disorders (ED) make up a g...\n",
       "4               NaN  Several different viruses and some bacterial p...\n",
       "5               NaN  “Toward a Synthetic Genome” Section\\n         ...\n",
       "6               NaN  Capturing videos anytime and anywhere, and the...\n",
       "7               NaN  Emotions are debated daily in scientific and s...\n",
       "8               NaN  Dementia is characterised by cognitive impairm...\n",
       "9               NaN  This conclusion summarizes and assesses change...\n",
       "10              NaN  Lies cost money and careers, destroy trust, an...\n",
       "11              NaN  Because humans lack a sensory vocabulary for a...\n",
       "12              NaN  Since their popularization, video games have d...\n",
       "13              NaN  What is the function of parent–child argumenta...\n",
       "14              NaN  Hemophagocytic lymphohistiocytosis (HLH) is a ...\n",
       "15              NaN  The Sphinxes Avenue extends from Karnak to Lux...\n",
       "16              NaN  One of the most serious viral outbreaks of the...\n",
       "17              NaN  is research assistant at the Department of Bus...\n",
       "18              NaN  Pseudomonas aeruginosa is a ubiquitous and opp...\n",
       "19              NaN  In this chapter, I address the premise that cr...\n",
       "20              NaN  This chapter provides a general introduction t...\n",
       "21              NaN  This chapter proposes a framework of concepts ...\n",
       "22              NaN  Robot-assisted surgery has many implications f...\n",
       "23              NaN  The pediatric heart transplantation Chap. 17 d...\n",
       "24              NaN  The chapter aims to investigate the profile of...\n",
       "25              NaN  An increasing evidence has suggested that surf...\n",
       "26              NaN  It is estimated that 2 billion people are infe...\n",
       "27              NaN  DTP and hepatitis B vaccines do not cause sudd...\n",
       "28              NaN  Yeast is used as an attractive host for metabo...\n",
       "29              NaN  All animal-eating bats are echolocators, and t...\n",
       "...             ...                                                ...\n",
       "1970            NaN  On the 20th anniversary of Hong Kong’s handove...\n",
       "1971            NaN  is an Associate Professsor in the Ph.D. Progra...\n",
       "1972            NaN  Neutropenic patients are predisposed to polymi...\n",
       "1973            NaN  No substance is without poison. Only the dose ...\n",
       "1974            NaN  The narcissism spectrum model synthesizes exte...\n",
       "1975            NaN  In Malaysia, traffic congestion remains to be ...\n",
       "1976            NaN  Mobility is a core factor of quality of life f...\n",
       "1977            NaN  According to the Oxford Dictionary of Human Re...\n",
       "1978            NaN  Huntington’s disease (HD) is a fatal, dominant...\n",
       "1979            NaN  Chromatin is the physical representation of ep...\n",
       "1980            NaN  In this chapter, the findings of the village r...\n",
       "1981            NaN  Atrial fibrillation (AF) is the most common ar...\n",
       "1982            NaN  Human–animal interaction (HAI) is an interface...\n",
       "1983            NaN  Natural disasters are on the rise, of growing ...\n",
       "1984            NaN  Adoptive cellular therapy (ACT) is a type of c...\n",
       "1985            NaN  The term ‘Micro-organism’ refers to any living...\n",
       "1986            NaN  Based on the information presented in Chapter ...\n",
       "1987            NaN  Breast and nipple skin disorders cover a large...\n",
       "1988            NaN  In this chapter, readers are treated to two an...\n",
       "1989            NaN  Nanotheranostics, the amalgamation of diagnosi...\n",
       "1990            NaN  Medicinal plants are used by 80% of the world ...\n",
       "1991            NaN  This chapter focuses on the labour of social r...\n",
       "1992            NaN  The purpose of this chapter is to give an over...\n",
       "1993            NaN  The discovery of increased health-protecting p...\n",
       "1994            NaN  Acute encephalitis is a rapidly progressive en...\n",
       "1995            NaN  Science never before faced such a complex, dyn...\n",
       "1996            NaN  This chapter contains a case study on an Afric...\n",
       "1997            NaN  There may be times when researchers want to fo...\n",
       "1998            NaN  This chapter reflects on marine/maritime spati...\n",
       "1999            NaN  This chapter presents a practical framework fo...\n",
       "\n",
       "[2000 rows x 2 columns]"
      ]
     },
     "metadata": {},
     "output_type": "display_data"
    }
   ],
   "source": []
  },
  {
   "cell_type": "markdown",
   "metadata": {},
   "source": [
    "## save result in excel format"
   ]
  },
  {
   "cell_type": "code",
   "execution_count": 382,
   "metadata": {},
   "outputs": [
    {
     "name": "stdout",
     "output_type": "stream",
     "text": [
      "DataFrame is exported successfully to 'converted-to-excel.xlsx' Excel File.\n"
     ]
    }
   ],
   "source": [
    "result = pd.concat([predicted_label, test_data], axis=1, join='inner', names = ['ID', 'subject_value', 'text'])\n",
    "#display(result)\n",
    "\n",
    "writer = pd.ExcelWriter('test_result.xlsx')\n",
    "result.to_excel(writer)\n",
    "writer.save()\n",
    "print(\"DataFrame is exported successfully to 'converted-to-excel.xlsx' Excel File.\")\n",
    "result.to_csv(\"test_result.csv\")"
   ]
  },
  {
   "cell_type": "markdown",
   "metadata": {},
   "source": [
    "## manual test"
   ]
  },
  {
   "cell_type": "code",
   "execution_count": 254,
   "metadata": {},
   "outputs": [
    {
     "data": {
      "text/plain": [
       "'Psychology'"
      ]
     },
     "execution_count": 254,
     "metadata": {},
     "output_type": "execute_result"
    }
   ],
   "source": [
    "text = '''PCIT requires adept, in-the-moment application of theory and techniques during situations that may be stressful for both the caregiver and therapist (e.g., a child tantrum). This is compounded by the fact that many therapists will have no previous experience with in-vivo coaching, one of the cornerstone attributes of PCIT. For therapists to develop this skillset, they will require both extensive training and sufficient supervision to support the application of PCIT with initial clients. These tasks are paramount to the goal of increasing the reach of PCIT to those who need it. The purpose of this chapter is, therefore, to summarize the current state of the research on both EBT training and supervision in general and PCIT training specifically and discuss the implications of such research on the process of PCIT dissemination.\n",
    "Unfortunately, very few studies have specifically focused on PCIT therapist training outcomes. However, the research on EBT trainings in general can still be informative, and are included here. Overall, the main goals of PCIT training and supervision include not only teaching skills necessary to conduct PCIT but also ensuring trainees can overcome barriers to implementing the treatment with fidelity with appropriate families. A strong training program is essential to meeting these goals, as research suggests that, although studying the PCIT manual itself is helpful, it is not enough for trainees to develop adequate PCIT competency (Herschell et al., 2009). Furthermore, Beveridge et al. (2015) have stressed that, beyond covering the specific components of PCIT, training also needs to address therapist and agency barriers (see below) to successful PCIT utilization, while Christian, Niec, Acevedo-Polakovich, and Kassab (2014) wrote that “the lack of effective communication [with agencies], agency readiness, as well as clinician factors, create[s] or maintain[s] barriers to completing [PCIT] training” (p. 15).\n",
    "Although the research literature has not adequately delineated what trainee attributes (e.g., education level, clinical experience, caseload) predict more successful training outcomes—and in many cases studies do not fully describe these characteristics in the training sample (Beveridge et al., 2015)—some trainee barriers are notable. While a recent survey found generally favorable views towards manualized treatments in child advocacy center workers (Staudt & Williams-Hayes, 2011), not all therapists (and thus not all trainees) will enter trainings with high levels of confidence in manualized, evidence-based treatments such as PCIT. Clinicians with more years of experience tend to have more negative attitudes towards manualized treatments (Barry et al., 2008; Becker, Smith, & Jensen-Doss, 2013), which may reflect shifting attitudes towards EBTs in treatment programs over time. Shafran et al. (2009) note that clinician attitudes which may be barriers to the dissemination of evidence-based practice include the belief that research studies do not sufficiently relate to the characteristics of actual clinical practice, that therapist attributes are more important to treatment outcomes than specific treatments, or that choosing specific components of treatments to match client needs is more valuable than following specific protocols. Clinicians may also incorrectly believe that comorbidity reduces the effectiveness of evidence-based protocols (Shafran et al., 2009). For PCIT specifically, trainees have described certain components of the PCIT protocol (e.g., the mastery criteria) as barriers to implement PCIT in their practice; in this same study, clinicians who dropped out of training or failed to meet mastery criteria were less likely to report positive views of core PCIT components such as coaching, mastery criteria, CDI and PDI teaching sessions, and co-therapy (Christian et al., 2014).'''\n",
    "my_lr_model.predict([text])[0]\n",
    "\n",
    "\n"
   ]
  },
  {
   "cell_type": "code",
   "execution_count": 383,
   "metadata": {},
   "outputs": [
    {
     "data": {
      "text/plain": [
       "'Biomedicine'"
      ]
     },
     "execution_count": 383,
     "metadata": {},
     "output_type": "execute_result"
    }
   ],
   "source": [
    "text = '''In the field of nanoscience, a series of surface chemical modifications or coatings have been designed to acquire the new physicochemical properties or to enhance the certain aspects of physicochemical properties. Meanwhile, some of the surface chemical modifications or coatings also have the beneficial effects in reducing the potential toxicity of nanomaterials. In this chapter, we focus on three important surface chemical modifications, polyethylene glycol (PEG) modification, ZnS or fetal bovine serum (FBS) surface coating, and carboxyl (–COOH) modification, to introduce the beneficial effects of these surface chemical modifications in reducing the toxicity of nanomaterials in nematodes.\n",
    "In the field of nanoscience, the main effort to reduce the toxicity of engineered nanomaterials (ENMs) is to design the suitable modification on the surface of examined ENMs [1–4]. Actually, reduction of the potential toxicity of certain ENMs is normally not the only research aim for surface chemical modifications. The aims to design certain surface chemical modifications usually contain both the toxicity reduction and the acquirement of new physicochemical properties or the enhancement of certain aspects of physicochemical properties [5–14]. One of the chemical modifications is to design chemical binding of certain group(s) [15, 16]. Another important chemical modification is to design certain form of coating to cover the examined ENMs [17, 18]. So far, besides the acquirement of new physicochemical properties or the enhancement of certain aspects of physicochemical properties, the increasing evidence on nanotoxicology has prompted the attention for chemists or material scientists the necessity to consider thoroughly the safety of ENMs potentially used in different industrial and medical applications.\n",
    "In this chapter, we mainly focus on three important chemical modifications, polyethylene glycol (PEG) modification, ZnS or fetal bovine serum (FBS) surface coating, and carboxyl (–COOH) modification, to introduce the different aspects of certain surface chemical modifications to reduce the potential toxicity of ENMs in nematodes.\n",
    "PEG surface modification is a frequently employed strategy to acquire the new physicochemical properties and to reduce the toxicity of ENMs [19–23]. More importantly, it has been indicated that the surface PEGylation could provide a “stealth” characteristic for ENMs; otherwise it would be identified as foreign materials by the body of organisms [23, 24].\n",
    "Along with the worldwide GO production, it is possible that a large amount of GO could be released into the environment, and GO would pose a significant environmental and health risk. PEG surface modification is a normally used chemical strategy to reduce the GO toxicity [25, 26].\n",
    "Chronic exposure to GO-PEG (1 mg/L) from L1-larvae to adult day-8 did not cause the toxicity on locomotion behavior as reflected by the endpoints of head thrash and body bend in nematodes [27] (Fig. 10.1). Similarly, chronic exposure to GO-PEG (1 mg/L) also did not result in the noticeable inductions of either intestinal autofluorescence or intestinal reactive oxygen species (ROS) production in nematodes [27] (Fig. 10.1). In contrast, chronic exposure to GO (1 mg/L) led to the significant decrease in locomotion behavior and the significant induction of both intestinal autofluorescence and intestinal ROS production in nematodes [27] (Fig. 10.1). These results demonstrate that PEG surface modification can be helpful for maintaining the normal functional state of both primary and secondary targeted organs in GO-exposed nematodes.\n",
    "                  \n",
    "In nematodes, chronic exposure to GO from L1-larvae to adult day-8 caused the severe GO deposition in the body, as well as the severe OP50 accumulation in the intestine, which is considered to be closely associated with the possible decrease in innate immune response of animals [27]. In contrast, PEG surface modification noticeably suppressed the GO deposition in the body, including the intestine, in nematodes [27]. More importantly, PEG surface modification obviously inhibited the OP50 accumulation in the intestine in nematodes [27]. Meanwhile, PEG surface modification significantly recovered the expression patterns of dysregulated genes encoding antimicrobial peptides or p38 MAPK signaling pathway induced by GO chronic exposure [27]. That is, PEG surface modification may have the potential to prevent the OP50 accumulation and to maintain the normal intestinal innate immune response in GO-exposed nematodes.\n",
    "In nematodes, AVL neurons in the head and DVB neurons in the tail are required for the control of defecation behavior [28]. GO exposure could cause the significant increase in mean defecation cycle length in nematodes [27, 29]. Additionally, GO exposure resulted in the developmental deficit in both the AVL neurons and the DVB neurons as indicated by the decrease in fluorescent size of AVL or DVB neurons in GO-exposed nematodes [27]. In contrast, PEG surface modification could be helpful for nematodes to maintain the normal developmental state of both the AVL neurons and the DVB neurons [27]. Moreover, the normal mean defecation cycle length was observed in PEG-GO-exposed nematodes after chronic exposure from L1-larvae to adult day-8 [27].\n",
    "A cellular mechanism has been raised to explain these observations. In GO-exposed nematodes, the obvious colocalization of Rho B-labeled GO with AVL or DVB neurons has been detected [27]. Different from this, PEG surface modification inhibited the colocalization of Rho B-labeled GO with AVL or DVB neurons [27].\n",
    "An important molecular mechanism raised to explain the beneficial effect of PEG surface modification to reduce the GO toxicity is that PEG modification may reduce the GO toxicity by influencing the functions of specific lncRNAs in nematodes [30]. After the comparison of 34 candidate long noncoding RNAs (lncRNAs) in control, GO- or GO-PEG-exposed nematodes, expression patterns of some dysregulated lncRNAs induced by GO exposure could be reversed by PEG surface modification [30]. PEG surface modification could increase the expressions of linc-37, linc-5, linc- 24, linc-14, XLOC_013642, XLOC_010849, and XLOC_004416 and decrease the expression of XLOC_007959 in GO-exposed nematodes [30].\n",
    "Another corresponding molecular mechanism has also been raised to explain the observations introduced above. In nematodes, GO exposure dysregulated the expression levels of some genes required for the control of defecation behavior [27, 29]. In contrast, PEG surface modification could be helpful for nematodes to maintain the normal expression patterns of genes required for the control of defecation behavior including those dysregulated by GO exposure [27].\"\n",
    "'''\n",
    "my_lr_model.predict([text])[0]"
   ]
  },
  {
   "cell_type": "markdown",
   "metadata": {},
   "source": [
    "## Applying Naive Bayes Classifier"
   ]
  },
  {
   "cell_type": "code",
   "execution_count": 384,
   "metadata": {},
   "outputs": [
    {
     "name": "stdout",
     "output_type": "stream",
     "text": [
      "accuracy 0.860625\n"
     ]
    }
   ],
   "source": [
    "from sklearn.naive_bayes import MultinomialNB\n",
    "\n",
    "\n",
    "naivebayes = Pipeline([('vect', CountVectorizer()),\n",
    "               ('tfidf', TfidfTransformer()),\n",
    "               ('clf', MultinomialNB()),\n",
    "              ])\n",
    "naivebayes.fit(X_train, y_train)\n",
    "\n",
    "y_pred = naivebayes.predict(X_test)\n",
    "\n",
    "print(f'accuracy {accuracy_score(y_pred,y_test)}')"
   ]
  },
  {
   "cell_type": "markdown",
   "metadata": {},
   "source": []
  },
  {
   "cell_type": "code",
   "execution_count": null,
   "metadata": {},
   "outputs": [],
   "source": []
  }
 ],
 "metadata": {
  "kernelspec": {
   "display_name": "Python 3",
   "language": "python",
   "name": "python3"
  },
  "language_info": {
   "codemirror_mode": {
    "name": "ipython",
    "version": 3
   },
   "file_extension": ".py",
   "mimetype": "text/x-python",
   "name": "python",
   "nbconvert_exporter": "python",
   "pygments_lexer": "ipython3",
   "version": "3.7.3"
  }
 },
 "nbformat": 4,
 "nbformat_minor": 2
}
